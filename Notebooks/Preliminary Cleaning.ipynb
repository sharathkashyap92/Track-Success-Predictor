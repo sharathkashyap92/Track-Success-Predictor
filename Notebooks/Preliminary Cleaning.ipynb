{
 "cells": [
  {
   "cell_type": "markdown",
   "metadata": {},
   "source": [
    "# This notebook contains code that applies initial cleaning to the dataset"
   ]
  },
  {
   "cell_type": "code",
   "execution_count": 2,
   "metadata": {},
   "outputs": [],
   "source": [
    "import pandas as pd\n",
    "from datetime import datetime, timedelta\n",
    "import numpy as np\n",
    "from matplotlib import pyplot as plt\n",
    "import seaborn as sns\n",
    "\n",
    "import matplotlib.pyplot as plt\n",
    "%matplotlib inline\n",
    "\n",
    "pd.set_option('display.max_rows', 20000)\n",
    "pd.set_option('display.max_columns', 500)"
   ]
  },
  {
   "cell_type": "markdown",
   "metadata": {},
   "source": [
    "### Clean the randomly picked songs - random songs from the same time period used in analysis\n"
   ]
  },
  {
   "cell_type": "code",
   "execution_count": 3,
   "metadata": {},
   "outputs": [],
   "source": [
    "df = pd.read_csv('random_picked_songs.csv')"
   ]
  },
  {
   "cell_type": "code",
   "execution_count": 4,
   "metadata": {},
   "outputs": [],
   "source": [
    "# retain only those songs that did not appear on billboard\n",
    "df = df[df.bb_appear == 0]"
   ]
  },
  {
   "cell_type": "code",
   "execution_count": 44,
   "metadata": {},
   "outputs": [],
   "source": [
    "# eliminating discrepancies in release date field\n",
    "df.release_date = df.release_date.apply(lambda x: x if len(x) > 4 else 'n')\n",
    "df = df[df.release_date != 'n']\n",
    "df['release_date'] = df.release_date.apply(lambda x: x.split('/')[0] + '/' +\n",
    "                                            x.split('/')[1] + '/20' +\n",
    "                                            x.split('/')[2]\n",
    "                                            if int(x.split('/')[2]) < 20\n",
    "                                            else 'n')"
   ]
  },
  {
   "cell_type": "code",
   "execution_count": 47,
   "metadata": {},
   "outputs": [],
   "source": [
    "# calculating days since release\n",
    "def calc_days_since_release(x):\n",
    "    d1 = datetime.today()\n",
    "    d2 = datetime.strptime(x, \"%m/%d/%Y\")\n",
    "    return abs((d2 - d1).days)\n",
    "\n",
    "df['days_since_release'] = df.release_date.apply(calc_days_since_release)"
   ]
  },
  {
   "cell_type": "code",
   "execution_count": 54,
   "metadata": {},
   "outputs": [],
   "source": [
    "# retaining only required columns\n",
    "df = df[['acousticness', 'album', 'artist',\n",
    "       'artist_followers', 'artist_popularity', 'danceability', 'duration',\n",
    "       'energy', 'explicit', 'instrumentalness', 'key', 'liveness', 'loudness',\n",
    "       'mode', 'n_markets', 'speechiness', 'tempo', 'time_signature',\n",
    "       'track_name', 'popularity', 'valence', 'n_weeks',\n",
    "       'days_since_release', 'bb_appear']]"
   ]
  },
  {
   "cell_type": "code",
   "execution_count": 194,
   "metadata": {},
   "outputs": [],
   "source": [
    "#getting only songs released since 2015 and transforming incorrect dates\n",
    "df_t = pd.DataFrame()\n",
    "for index, row in df.iterrows():\n",
    "    rl = row['release_date']\n",
    "    if (('2015' in rl) |\n",
    "        ('2016' in rl) |\n",
    "        ('2017' in rl) |\n",
    "        ('2018' in rl)\n",
    "       ):\n",
    "        df_t = df_t.append(row)"
   ]
  },
  {
   "cell_type": "code",
   "execution_count": 198,
   "metadata": {},
   "outputs": [],
   "source": [
    "# calcualting days since release\n",
    "df_t['days_since_release'] = df_t.release_date.apply(calc_days_since_release)"
   ]
  },
  {
   "cell_type": "code",
   "execution_count": 200,
   "metadata": {},
   "outputs": [],
   "source": [
    "df_t = df_t.drop(['Unnamed: 0', 'analysis_url', 'album_id',\n",
    "                  'artist_id', 'duration_ms', 'record_label', 'release_date', 'track_id'], axis = 1)"
   ]
  },
  {
   "cell_type": "code",
   "execution_count": 201,
   "metadata": {},
   "outputs": [],
   "source": [
    "df_t['bb_appear'] = df_t['weeks'].apply(lambda x: '1' if x != 0 else '0')"
   ]
  },
  {
   "cell_type": "code",
   "execution_count": 202,
   "metadata": {},
   "outputs": [
    {
     "data": {
      "text/plain": [
       "(4812, 25)"
      ]
     },
     "execution_count": 202,
     "metadata": {},
     "output_type": "execute_result"
    }
   ],
   "source": [
    "# renaming features and saving\n",
    "df = df.rename(columns = {'n_weeks': 'weeks', 'album': 'album_name', 'popularity': 'track_popularity'})\n",
    "df.to_csv('random_picked_songs.csv')"
   ]
  }
 ],
 "metadata": {
  "kernelspec": {
   "display_name": "Python 3",
   "language": "python",
   "name": "python3"
  },
  "language_info": {
   "codemirror_mode": {
    "name": "ipython",
    "version": 3
   },
   "file_extension": ".py",
   "mimetype": "text/x-python",
   "name": "python",
   "nbconvert_exporter": "python",
   "pygments_lexer": "ipython3",
   "version": "3.6.6"
  }
 },
 "nbformat": 4,
 "nbformat_minor": 2
}
